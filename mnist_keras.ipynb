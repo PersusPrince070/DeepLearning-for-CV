{
 "cells": [
  {
   "cell_type": "code",
   "execution_count": 2,
   "metadata": {},
   "outputs": [],
   "source": [
    "from keras.datasets import mnist\n",
    "(train_images, train_labels), (test_images, test_labels) = mnist.load_data()"
   ]
  },
  {
   "cell_type": "code",
   "execution_count": 3,
   "metadata": {},
   "outputs": [
    {
     "name": "stdout",
     "output_type": "stream",
     "text": [
      "Train (60000, 28, 28) (60000,)\n",
      "Test ((10000, 28, 28), (10000,))\n",
      "Train 0 255 33.318421449829934 78.56748998339798\n",
      "Test 0 255 33.791224489795916 79.17246322228644\n"
     ]
    }
   ],
   "source": [
    "print('Train', train_images.shape, train_labels.shape)\n",
    "print('Test', (test_images.shape, test_labels.shape))\n",
    "print('Train', train_images.min(), train_images.max(), train_images.mean(), train_images.std())\n",
    "print('Test', test_images.min(), test_images.max(), test_images.mean(), test_images.std())"
   ]
  },
  {
   "cell_type": "code",
   "execution_count": 4,
   "metadata": {},
   "outputs": [
    {
     "name": "stdout",
     "output_type": "stream",
     "text": [
      "Train min = 0.000, max = 255.000\n",
      "Test min = 0.000, max = 255.000\n",
      "Batches train = 938, test = 157\n",
      "Batch shape = (64, 28, 28, 1), min = 0.000, max = 1.000\n"
     ]
    }
   ],
   "source": [
    "from keras.datasets import mnist\n",
    "from keras_preprocessing.image import ImageDataGenerator\n",
    "\n",
    "(trainX, trainY), (testX, testY) = mnist.load_data()\n",
    "width, height, channels = trainX.shape[1], trainX.shape[2], 1\n",
    "trainX = trainX.reshape((trainX.shape[0], width, height, channels))\n",
    "testX = testX.reshape((testX.shape[0], width, height, channels))\n",
    "print('Train min = %.3f, max = %.3f' % (trainX.min(), trainX.max()))\n",
    "print('Test min = %.3f, max = %.3f' % (testX.min(), testX.max()))\n",
    "datagen = ImageDataGenerator(rescale=1.0/255.0)\n",
    "train_iterator = datagen.flow(trainX, trainY, batch_size=64)\n",
    "test_iterator = datagen.flow(testX, testY, batch_size=64)\n",
    "print('Batches train = %d, test = %d' % (len(train_iterator), len(test_iterator)))\n",
    "batchX, batchY = train_iterator.next()\n",
    "print('Batch shape = %s, min = %.3f, max = %.3f' % (batchX.shape, batchY.min(), batchX.max()))"
   ]
  },
  {
   "cell_type": "code",
   "execution_count": 6,
   "metadata": {},
   "outputs": [
    {
     "name": "stdout",
     "output_type": "stream",
     "text": [
      "Means train = 33.318, test = 33.791\n",
      "Data Generator Mean: 33.318\n",
      "(64, 28, 28, 1) -0.7597346\n",
      "(60000, 28, 28, 1) -1.9512918e-05\n"
     ]
    }
   ],
   "source": [
    "from keras.datasets import mnist\n",
    "from keras_preprocessing.image import ImageDataGenerator\n",
    "(trainX, trainY), (testX, testY) = mnist.load_data()\n",
    "width, height, channels = trainX.shape[1], trainX.shape[2], 1\n",
    "trainX = trainX.reshape((trainX.shape[0], width, height, channels))\n",
    "testX = testX.reshape((testX.shape[0], width, height, channels))\n",
    "print('Means train = %.3f, test = %.3f' % (trainX.mean(), testX.mean()))\n",
    "datagen = ImageDataGenerator(featurewise_center=True)\n",
    "datagen.fit(trainX)\n",
    "print('Data Generator Mean: %.3f' % datagen.mean)\n",
    "iterator = datagen.flow(trainX, trainY, batch_size=64)\n",
    "batchX, batchY = iterator.next()\n",
    "print(batchX.shape, batchX.mean())\n",
    "iterator = datagen.flow(trainX, trainY, batch_size=len(trainX), shuffle=False)\n",
    "batchX, batchY = iterator.next()\n",
    "print(batchX.shape, batchX.mean())"
   ]
  },
  {
   "cell_type": "code",
   "execution_count": 7,
   "metadata": {},
   "outputs": [
    {
     "name": "stdout",
     "output_type": "stream",
     "text": [
      "Statistics train = 33.318 (78.567), test = 33.791 (79.172)\n",
      "Data Generator mean = 33.318, std = 78.567\n",
      "(60000, 28, 28, 1) -1.9512918e-05 78.567444\n",
      "(60000, 28, 28, 1) -3.4560264e-07 0.9999998\n"
     ]
    }
   ],
   "source": [
    "from keras.datasets import mnist\n",
    "from keras_preprocessing.image import ImageDataGenerator\n",
    "(trainX, trainY), (testX, testY) = mnist.load_data()\n",
    "width, height, channels = trainX.shape[1], trainX.shape[2], 1\n",
    "trainX = trainX.reshape((trainX.shape[0], width, height, channels))\n",
    "testX = testX.reshape((testX.shape[0], width, height, channels))\n",
    "print('Statistics train = %.3f (%.3f), test = %.3f (%.3f)' % (trainX.mean(), trainX.std(), testX.mean(), testX.std()))\n",
    "datagen = ImageDataGenerator(featurewise_center=True, featurewise_std_normalization=True)\n",
    "datagen.fit(trainX)\n",
    "print('Data Generator mean = %.3f, std = %.3f' % (datagen.mean, datagen.std))\n",
    "iterator = datagen.flow(trainX, trainY, batch_size=64)\n",
    "print(batchX.shape, batchX.mean(), batchX.std())\n",
    "iterator = datagen.flow(trainX, trainY, batch_size=len(trainX), shuffle=False)\n",
    "batchX, batchY = iterator.next()\n",
    "print(batchX.shape, batchX.mean(), batchX.std())"
   ]
  },
  {
   "cell_type": "code",
   "execution_count": 1,
   "metadata": {},
   "outputs": [
    {
     "name": "stdout",
     "output_type": "stream",
     "text": [
      "Found 2 images belonging to 2 classes.\n",
      "Found 2 images belonging to 2 classes.\n",
      "Found 2 images belonging to 2 classes.\n",
      "Batch shape = (2, 256, 256, 3), min = 0.000, max = 255.000\n"
     ]
    }
   ],
   "source": [
    "from keras_preprocessing.image import ImageDataGenerator\n",
    "\n",
    "datagen = ImageDataGenerator()\n",
    "train_it = datagen.flow_from_directory('data/train/', class_mode='binary')\n",
    "val_it = datagen.flow_from_directory('data/validation/', class_mode='binary')\n",
    "test_it = datagen.flow_from_directory('data/test/', class_mode='binary')\n",
    "batchX, batchY = train_it.next()\n",
    "print('Batch shape = %s, min = %.3f, max = %.3f' % (batchX.shape, batchX.min(), batchX.max()))"
   ]
  },
  {
   "cell_type": "code",
   "execution_count": null,
   "metadata": {},
   "outputs": [],
   "source": []
  }
 ],
 "metadata": {
  "kernelspec": {
   "display_name": "Python 3",
   "language": "python",
   "name": "python3"
  },
  "language_info": {
   "codemirror_mode": {
    "name": "ipython",
    "version": 3
   },
   "file_extension": ".py",
   "mimetype": "text/x-python",
   "name": "python",
   "nbconvert_exporter": "python",
   "pygments_lexer": "ipython3",
   "version": "3.11.0"
  },
  "orig_nbformat": 4
 },
 "nbformat": 4,
 "nbformat_minor": 2
}
